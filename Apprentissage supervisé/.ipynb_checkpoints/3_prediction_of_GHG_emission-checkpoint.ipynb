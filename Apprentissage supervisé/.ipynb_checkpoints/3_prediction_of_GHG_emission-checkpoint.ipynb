{
 "cells": [
  {
   "cell_type": "markdown",
   "id": "0d42f571",
   "metadata": {},
   "source": [
    "# Predicting the *TotalGHGEmissions* with supervised machine learning algorithms"
   ]
  },
  {
   "attachments": {
    "image.png": {
     "image/png": "[encoded data removed]"
    }
   },
   "cell_type": "markdown",
   "id": "7e722984",
   "metadata": {},
   "source": [
    "![image.png](attachment:image.png)\n",
    "\n",
    "After de EDA and cleaning of the dataset, the data are almost ready to be fed to a machine learning algorithm. In order to improve the model performances, the features can be reprocessed. As an example, numerical features can me rescaled. Another common method is the encoding of categorical features.\n",
    "\n",
    "In this document, the data previously cleaned have been imported. Then a naive model has been employed for predicting the target *TotalGHGEmissions*. Then, the performances brought by several methods of data preprocessing have been assessed.\n",
    "\n",
    "Then, the performances of several machine learning models have been assessed with the appropriate metrics.\n",
    "\n",
    "Finally, the prediction resulting from the higher-performing model has been studied in detail. Moreover, the relevance of the *EnergyStarScore*, a feature that is costly to estimate, have been assessed."
   ]
  },
  {
   "cell_type": "markdown",
   "id": "9674555a",
   "metadata": {},
   "source": [
    "**Importing libraries and custom colors**"
   ]
  },
  {
   "cell_type": "code",
   "execution_count": 1,
   "id": "fb077ad4",
   "metadata": {},
   "outputs": [
    {
     "name": "stderr",
     "output_type": "stream",
     "text": [
      "C:\\ProgramData\\Anaconda3\\envs\\Project_3\\lib\\site-packages\\scipy\\__init__.py:146: UserWarning: A NumPy version >=1.16.5 and <1.23.0 is required for this version of SciPy (detected version 1.23.1\n",
      "  warnings.warn(f\"A NumPy version >={np_minversion} and <{np_maxversion}\"\n"
     ]
    }
   ],
   "source": [
    "import pandas as pd\n",
    "import numpy as np\n",
    "import seaborn as sns\n",
    "import matplotlib.pyplot as plt"
   ]
  },
  {
   "cell_type": "code",
   "execution_count": 2,
   "id": "82a00312",
   "metadata": {},
   "outputs": [],
   "source": [
    "from sklearn.linear_model import Ridge\n",
    "from sklearn.pipeline import make_pipeline\n",
    "from sklearn.pipeline import make_union\n",
    "from sklearn.compose import make_column_transformer\n",
    "\n",
    "from sklearn.preprocessing import StandardScaler\n",
    "from sklearn.preprocessing import FunctionTransformer\n",
    "from sklearn.preprocessing import OneHotEncoder\n",
    "from sklearn.preprocessing import OrdinalEncoder\n",
    "from sklearn.preprocessing import PolynomialFeatures\n",
    "\n",
    "from sklearn.model_selection import train_test_split\n",
    "from sklearn.model_selection import GridSearchCV\n",
    "\n",
    "\n",
    "from sklearn.metrics import r2_score\n",
    "from sklearn.metrics import mean_squared_error\n",
    "from sklearn.metrics import mean_absolute_error"
   ]
  },
  {
   "cell_type": "code",
   "execution_count": 3,
   "id": "fd6fa1af",
   "metadata": {},
   "outputs": [],
   "source": [
    "# Create a log transformer for converting data to log\n",
    "LogTransformer = FunctionTransformer(func = np.log1p, feature_names_out = 'one-to-one')\n",
    "\n",
    "\n",
    "# Create custom encoder for categorical data\n",
    "def none_cat_encoder(df):\n",
    "    df[df == 'None'] = 0\n",
    "    df[df != 0] = 1\n",
    "    return df\n",
    "\n",
    "custom_cat_encoder = FunctionTransformer(none_cat_encoder,\n",
    "                                         feature_names_out = 'one-to-one')"
   ]
  },
  {
   "cell_type": "code",
   "execution_count": 4,
   "id": "0923658a",
   "metadata": {},
   "outputs": [],
   "source": [
    "# Custom colors for charts\n",
    "\n",
    "c_0 = np.array([2, 48, 71,256])/256\n",
    "c_1 = np.array([251, 133, 0,256])/256\n",
    "c_2 = np.array([255, 183, 3,256])/256\n",
    "c_3 = np.array([33, 158, 188,256])/256\n",
    "c_4 = np.array([142, 202, 230,256])/256\n",
    "\n",
    "# Creating a custom colormap\n",
    "# The code comes from https://matplotlib.org/3.1.1/tutorials/colors/colormap-manipulation.html\n",
    "from matplotlib.colors import ListedColormap\n",
    "\n",
    "N = 256\n",
    "vals = np.ones((N, 4))\n",
    "vals[:, 0] = np.linspace(c_0[0], c_1[0], N)\n",
    "vals[:, 1] = np.linspace(c_0[1], c_1[1], N)\n",
    "vals[:, 2] = np.linspace(c_0[2], c_1[2], N)\n",
    "custom_cmp1 = ListedColormap(vals)\n",
    "\n",
    "# A colormap with white in the middle\n",
    "N = 256\n",
    "vals = np.ones((N, 4))\n",
    "vals[:, 0] = np.concatenate((np.linspace(c_0[0], 1, 128), np.linspace(1, c_1[0], 128)), axis = None)\n",
    "vals[:, 1] = np.concatenate((np.linspace(c_0[1], 1, 128), np.linspace(1, c_1[1], 128)), axis = None)\n",
    "vals[:, 2] = np.concatenate((np.linspace(c_0[2], 1, 128), np.linspace(1, c_1[2], 128)), axis = None)\n",
    "custom_cmp2 = ListedColormap(vals)"
   ]
  },
  {
   "cell_type": "code",
   "execution_count": 5,
   "id": "4aa7dc18",
   "metadata": {},
   "outputs": [
    {
     "data": {
      "text/html": [
       "<div>\n",
       "<style scoped>\n",
       "    .dataframe tbody tr th:only-of-type {\n",
       "        vertical-align: middle;\n",
       "    }\n",
       "\n",
       "    .dataframe tbody tr th {\n",
       "        vertical-align: top;\n",
       "    }\n",
       "\n",
       "    .dataframe thead th {\n",
       "        text-align: right;\n",
       "    }\n",
       "</style>\n",
       "<table border=\"1\" class=\"dataframe\">\n",
       "  <thead>\n",
       "    <tr style=\"text-align: right;\">\n",
       "      <th></th>\n",
       "      <th>BuildingType</th>\n",
       "      <th>PrimaryPropertyType</th>\n",
       "      <th>Neighborhood</th>\n",
       "      <th>YearBuilt</th>\n",
       "      <th>NumberofBuildings</th>\n",
       "      <th>PropertyGFAParking</th>\n",
       "      <th>PropertyGFABuilding(s)</th>\n",
       "      <th>LargestPropertyUseType</th>\n",
       "      <th>SecondLargestPropertyUseType</th>\n",
       "      <th>SecondLargestPropertyUseTypeGFA</th>\n",
       "      <th>...</th>\n",
       "      <th>ENERGYSTARScore</th>\n",
       "      <th>SiteEnergyUse(kBtu)</th>\n",
       "      <th>TotalGHGEmissions</th>\n",
       "      <th>distance(km)</th>\n",
       "      <th>streetType</th>\n",
       "      <th>ElectricityProp</th>\n",
       "      <th>NaturalGasProp</th>\n",
       "      <th>SteamProp</th>\n",
       "      <th>OtherEnergyProp</th>\n",
       "      <th>Imp_NumberofFloors</th>\n",
       "    </tr>\n",
       "  </thead>\n",
       "  <tbody>\n",
       "    <tr>\n",
       "      <th>0</th>\n",
       "      <td>NonResidential</td>\n",
       "      <td>Hotel</td>\n",
       "      <td>DOWNTOWN</td>\n",
       "      <td>1927</td>\n",
       "      <td>1.0</td>\n",
       "      <td>0</td>\n",
       "      <td>88434</td>\n",
       "      <td>Hotel</td>\n",
       "      <td>None</td>\n",
       "      <td>0.0</td>\n",
       "      <td>...</td>\n",
       "      <td>60.0</td>\n",
       "      <td>7226362.5</td>\n",
       "      <td>249.98</td>\n",
       "      <td>0.512422</td>\n",
       "      <td>way</td>\n",
       "      <td>0.546060</td>\n",
       "      <td>0.176638</td>\n",
       "      <td>0.277302</td>\n",
       "      <td>6.919110e-08</td>\n",
       "      <td>12</td>\n",
       "    </tr>\n",
       "    <tr>\n",
       "      <th>1</th>\n",
       "      <td>NonResidential</td>\n",
       "      <td>Hotel</td>\n",
       "      <td>DOWNTOWN</td>\n",
       "      <td>1996</td>\n",
       "      <td>1.0</td>\n",
       "      <td>15064</td>\n",
       "      <td>88502</td>\n",
       "      <td>Hotel</td>\n",
       "      <td>Parking</td>\n",
       "      <td>15064.0</td>\n",
       "      <td>...</td>\n",
       "      <td>61.0</td>\n",
       "      <td>8387933.0</td>\n",
       "      <td>295.86</td>\n",
       "      <td>0.624190</td>\n",
       "      <td>street</td>\n",
       "      <td>0.386609</td>\n",
       "      <td>0.613391</td>\n",
       "      <td>0.000000</td>\n",
       "      <td>0.000000e+00</td>\n",
       "      <td>11</td>\n",
       "    </tr>\n",
       "    <tr>\n",
       "      <th>2</th>\n",
       "      <td>NonResidential</td>\n",
       "      <td>Hotel</td>\n",
       "      <td>DOWNTOWN</td>\n",
       "      <td>1969</td>\n",
       "      <td>1.0</td>\n",
       "      <td>196718</td>\n",
       "      <td>759392</td>\n",
       "      <td>Hotel</td>\n",
       "      <td>None</td>\n",
       "      <td>0.0</td>\n",
       "      <td>...</td>\n",
       "      <td>43.0</td>\n",
       "      <td>72587024.0</td>\n",
       "      <td>2089.28</td>\n",
       "      <td>0.701359</td>\n",
       "      <td>avenue</td>\n",
       "      <td>0.682307</td>\n",
       "      <td>0.020579</td>\n",
       "      <td>0.297113</td>\n",
       "      <td>8.265940e-08</td>\n",
       "      <td>41</td>\n",
       "    </tr>\n",
       "    <tr>\n",
       "      <th>3</th>\n",
       "      <td>NonResidential</td>\n",
       "      <td>Hotel</td>\n",
       "      <td>DOWNTOWN</td>\n",
       "      <td>1926</td>\n",
       "      <td>1.0</td>\n",
       "      <td>0</td>\n",
       "      <td>61320</td>\n",
       "      <td>Hotel</td>\n",
       "      <td>None</td>\n",
       "      <td>0.0</td>\n",
       "      <td>...</td>\n",
       "      <td>56.0</td>\n",
       "      <td>6794584.0</td>\n",
       "      <td>286.43</td>\n",
       "      <td>0.708090</td>\n",
       "      <td>street</td>\n",
       "      <td>0.407519</td>\n",
       "      <td>0.266567</td>\n",
       "      <td>0.325913</td>\n",
       "      <td>1.103820e-07</td>\n",
       "      <td>10</td>\n",
       "    </tr>\n",
       "    <tr>\n",
       "      <th>4</th>\n",
       "      <td>NonResidential</td>\n",
       "      <td>Hotel</td>\n",
       "      <td>DOWNTOWN</td>\n",
       "      <td>1980</td>\n",
       "      <td>1.0</td>\n",
       "      <td>62000</td>\n",
       "      <td>113580</td>\n",
       "      <td>Hotel</td>\n",
       "      <td>Parking</td>\n",
       "      <td>68009.0</td>\n",
       "      <td>...</td>\n",
       "      <td>75.0</td>\n",
       "      <td>14172606.0</td>\n",
       "      <td>505.01</td>\n",
       "      <td>0.740453</td>\n",
       "      <td>street</td>\n",
       "      <td>0.378802</td>\n",
       "      <td>0.621198</td>\n",
       "      <td>0.000000</td>\n",
       "      <td>7.055865e-08</td>\n",
       "      <td>18</td>\n",
       "    </tr>\n",
       "  </tbody>\n",
       "</table>\n",
       "<p>5 rows × 22 columns</p>\n",
       "</div>"
      ],
      "text/plain": [
       "     BuildingType PrimaryPropertyType Neighborhood  YearBuilt  \\\n",
       "0  NonResidential               Hotel     DOWNTOWN       1927   \n",
       "1  NonResidential               Hotel     DOWNTOWN       1996   \n",
       "2  NonResidential               Hotel     DOWNTOWN       1969   \n",
       "3  NonResidential               Hotel     DOWNTOWN       1926   \n",
       "4  NonResidential               Hotel     DOWNTOWN       1980   \n",
       "\n",
       "   NumberofBuildings  PropertyGFAParking  PropertyGFABuilding(s)  \\\n",
       "0                1.0                   0                   88434   \n",
       "1                1.0               15064                   88502   \n",
       "2                1.0              196718                  759392   \n",
       "3                1.0                   0                   61320   \n",
       "4                1.0               62000                  113580   \n",
       "\n",
       "  LargestPropertyUseType SecondLargestPropertyUseType  \\\n",
       "0                  Hotel                         None   \n",
       "1                  Hotel                      Parking   \n",
       "2                  Hotel                         None   \n",
       "3                  Hotel                         None   \n",
       "4                  Hotel                      Parking   \n",
       "\n",
       "   SecondLargestPropertyUseTypeGFA  ... ENERGYSTARScore  SiteEnergyUse(kBtu)  \\\n",
       "0                              0.0  ...            60.0            7226362.5   \n",
       "1                          15064.0  ...            61.0            8387933.0   \n",
       "2                              0.0  ...            43.0           72587024.0   \n",
       "3                              0.0  ...            56.0            6794584.0   \n",
       "4                          68009.0  ...            75.0           14172606.0   \n",
       "\n",
       "   TotalGHGEmissions  distance(km)  streetType  ElectricityProp  \\\n",
       "0             249.98      0.512422         way         0.546060   \n",
       "1             295.86      0.624190      street         0.386609   \n",
       "2            2089.28      0.701359      avenue         0.682307   \n",
       "3             286.43      0.708090      street         0.407519   \n",
       "4             505.01      0.740453      street         0.378802   \n",
       "\n",
       "  NaturalGasProp  SteamProp  OtherEnergyProp  Imp_NumberofFloors  \n",
       "0       0.176638   0.277302     6.919110e-08                  12  \n",
       "1       0.613391   0.000000     0.000000e+00                  11  \n",
       "2       0.020579   0.297113     8.265940e-08                  41  \n",
       "3       0.266567   0.325913     1.103820e-07                  10  \n",
       "4       0.621198   0.000000     7.055865e-08                  18  \n",
       "\n",
       "[5 rows x 22 columns]"
      ]
     },
     "execution_count": 5,
     "metadata": {},
     "output_type": "execute_result"
    }
   ],
   "source": [
    "# Importing the data\n",
    "df = pd.read_csv('cleaned_df.csv')\n",
    "df.head()"
   ]
  },
  {
   "cell_type": "markdown",
   "id": "5c1a4749",
   "metadata": {},
   "source": [
    "# 1. Data Preprocessing"
   ]
  },
  {
   "cell_type": "markdown",
   "id": "cda29b92",
   "metadata": {},
   "source": [
    "## 1.1 Evaluation with a naive model\n",
    "\n",
    "Once imported, a naive model on numerical data is built to identify problems of under- and overfitting"
   ]
  },
  {
   "cell_type": "code",
   "execution_count": 6,
   "id": "775ff8b6",
   "metadata": {},
   "outputs": [],
   "source": [
    "# First naive model\n",
    "\n",
    "\n",
    "# Raw data\n",
    "x = df.select_dtypes(include = [float, int]).drop(['TotalGHGEmissions', 'ENERGYSTARScore', 'SiteEnergyUse(kBtu)'], axis = 1)\n",
    "y = df['TotalGHGEmissions']\n",
    "\n",
    "# Train and test split\n",
    "x_train, x_test, y_train, y_test = train_test_split(x, y, test_size = 0.2, random_state = 0)\n",
    "\n",
    "# Scaling\n",
    "scaler = StandardScaler().fit(x_train)\n",
    "\n",
    "x_train_sc = scaler.transform(x_train)\n",
    "\n",
    "x_test_sc = scaler.transform(x_test)"
   ]
  },
  {
   "cell_type": "code",
   "execution_count": 7,
   "id": "774e67e2",
   "metadata": {},
   "outputs": [
    {
     "data": {
      "text/plain": [
       "<AxesSubplot:>"
      ]
     },
     "execution_count": 7,
     "metadata": {},
     "output_type": "execute_result"
    },
    {
     "data": {
      "image/png": "[encoded data removed]",
      "text/plain": [
       "<Figure size 432x288 with 1 Axes>"
      ]
     },
     "metadata": {
      "needs_background": "light"
     },
     "output_type": "display_data"
    }
   ],
   "source": [
    "# Building and trainning the model (without cross-validation for estimation of weights)\n",
    "\n",
    "test_score = []\n",
    "train_score = []\n",
    "weights = []\n",
    "\n",
    "\n",
    "for alpha in np.logspace(-2, 2, 10):\n",
    "    model = Ridge(alpha = alpha)\n",
    "    model.fit(x_train_sc, y_train)\n",
    "    \n",
    "    train_score.append(model.score(x_train_sc, y_train))\n",
    "    test_score.append(model.score(x_test_sc, y_test))\n",
    "    weights.append(model.coef_)\n",
    "\n",
    "\n",
    "sns.lineplot(x = np.logspace(-2, 2, 10), y = train_score, color = c_1, label = 'Train')\n",
    "sns.lineplot(x = np.logspace(-2, 2, 10), y = test_score, color = c_0, label = 'Test')"
   ]
  },
  {
   "cell_type": "markdown",
   "id": "0169aa16",
   "metadata": {},
   "source": [
    "The model offers poor performances:\n",
    "\n",
    "- The difference between the test and train set show overfitting\n",
    "- Data like PropertyGFABuildings have extreme weigts when compared to other parameters"
   ]
  },
  {
   "cell_type": "markdown",
   "id": "bf77fa66",
   "metadata": {},
   "source": [
    "## 1.2 Data preprocessing"
   ]
  },
  {
   "cell_type": "markdown",
   "id": "e49d158c",
   "metadata": {},
   "source": [
    "In order to better understand the data, various models are fitted to the data and different methods of feature engineering are assessed"
   ]
  },
  {
   "cell_type": "code",
   "execution_count": 9,
   "id": "603ba666",
   "metadata": {},
   "outputs": [],
   "source": [
    "def model_eval(transformer, model, cv_params, x_train, x_test, y_train, y_test): # Function to evaluate a given model\n",
    "    # The model is put in a pipepline\n",
    "    pipe = make_pipeline(transformer, model)\n",
    "    # The model is evaluated and optimised through cross validation\n",
    "    pipe_cv = GridSearchCV(pipe, cv_params, cv = 5)\n",
    "\n",
    "    pipe_cv.fit(x_train, y_train)\n",
    "    \n",
    "    y_train_pred = pipe_cv.predict(x_train)\n",
    "    y_test_pred = pipe_cv.predict(x_test)\n",
    "    \n",
    "    # Results are put in a table and displayed\n",
    "    results = [\n",
    "        ('R²', r2_score(y_train, y_train_pred), r2_score(y_test, y_test_pred)),\n",
    "        ('MSE', mean_squared_error(y_train, y_train_pred), mean_squared_error(y_test, y_test_pred)),\n",
    "        ('RMSE', mean_squared_error(y_train, y_train_pred, squared = False), mean_squared_error(y_test, y_test_pred, squared = False)),\n",
    "        ('MAE', mean_absolute_error(y_train, y_train_pred), mean_absolute_error(y_test, y_test_pred))\n",
    "    ]\n",
    "    \n",
    "    print('{:<5} {:<20} {:<20}'.format(' ','Train','Test'))\n",
    "    \n",
    "    for line in results:\n",
    "        print(f'{line[0]:<5}{line[1]:<20.3}{line[2]:<20.3}')\n",
    "    \n",
    "\n",
    "    return pipe_cv\n",
    "    "
   ]
  },
  {
   "cell_type": "markdown",
   "id": "3b4e85e8",
   "metadata": {},
   "source": [
    "### 1.2.1 Log conversion"
   ]
  },
  {
   "cell_type": "markdown",
   "id": "3605c0fb",
   "metadata": {},
   "source": [
    "First, the conversion of features to log is assessed\n",
    "For the sake of simplicity, a function is created for model evaluation"
   ]
  },
  {
   "cell_type": "code",
   "execution_count": 10,
   "id": "93be100e",
   "metadata": {},
   "outputs": [],
   "source": [
    "# Features that could be log according to the EDA\n",
    "log_list = ['NumberofBuildings',\n",
    "'NumberofFloors',\n",
    "'PropertyGFATotal',\n",
    "'PropertyGFAParking',\n",
    "'PropertyGFABuilding(s)',\n",
    "'LargestPropertyUseTypeGFA',\n",
    "'SecondLargestPropertyUseTypeGFA',\n",
    "'ThirdLargestPropertyUseTypeGFA',\n",
    "'SiteEUI(kBtu/sf)',\n",
    "'SiteEUIWN(kBtu/sf)',\n",
    "'SourceEUI(kBtu/sf)',\n",
    "'SourceEUIWN(kBtu/sf)',\n",
    "'SiteEnergyUse(kBtu)',\n",
    "'SiteEnergyUseWN(kBtu)',\n",
    "'SteamUse(kBtu)',\n",
    "'Electricity(kWh)',\n",
    "'Electricity(kBtu)',\n",
    "'NaturalGas(therms)',\n",
    "'NaturalGas(kBtu)',\n",
    "'TotalGHGEmissions',\n",
    "'GHGEmissionsIntensity',\n",
    "'Imp_NumberofFloors']"
   ]
  },
  {
   "cell_type": "markdown",
   "id": "a96bda12",
   "metadata": {},
   "source": [
    "The features are converted to log through the transformer.\n",
    "\n",
    "The target is also converted to log and standardised beforehand."
   ]
  },
  {
   "cell_type": "code",
   "execution_count": 11,
   "id": "7d1d7530",
   "metadata": {},
   "outputs": [
    {
     "name": "stdout",
     "output_type": "stream",
     "text": [
      "      Train                Test                \n",
      "R²   0.24                0.247               \n",
      "MSE  0.76                0.685               \n",
      "RMSE 0.872               0.827               \n",
      "MAE  0.683               0.666               \n"
     ]
    }
   ],
   "source": [
    "x = df[['PropertyGFABuilding(s)', 'Imp_NumberofFloors']]\n",
    "y = df['TotalGHGEmissions']\n",
    "\n",
    "# Train and test split\n",
    "x_train, x_test, y_train, y_test = train_test_split(x, y, test_size = 0.2, random_state = 0)\n",
    "\n",
    "# Target preprocessing\n",
    "\n",
    "t_scaler = StandardScaler().fit(np.log1p(y_train.values.reshape(-1,1)))\n",
    "\n",
    "y_train = t_scaler.transform(np.log1p(y_train).values.reshape(-1,1))\n",
    "y_test = t_scaler.transform(np.log1p(y_test).values.reshape(-1,1))\n",
    "\n",
    "# Features preprocessing\n",
    "\n",
    "transformer = make_pipeline(LogTransformer, StandardScaler()) # LogTransformer was defined earlier and convert to ln\n",
    "\n",
    "model = Ridge()\n",
    "\n",
    "params_cv = {'ridge__alpha' : np.logspace(-2, 3, 10)}\n",
    "\n",
    "\n",
    "model = model_eval(scaler, Ridge(), params_cv, x_train, x_test, y_train, y_test)"
   ]
  },
  {
   "cell_type": "markdown",
   "id": "f2de202c",
   "metadata": {},
   "source": [
    "The target is represented before and after processing"
   ]
  },
  {
   "cell_type": "code",
   "execution_count": 12,
   "id": "a172bf11",
   "metadata": {},
   "outputs": [
    {
     "data": {
      "image/png": "[encoded data removed]",
      "text/plain": [
       "<Figure size 1080x288 with 6 Axes>"
      ]
     },
     "metadata": {
      "needs_background": "light"
     },
     "output_type": "display_data"
    }
   ],
   "source": [
    "fig = plt.figure(figsize = (15, 4))\n",
    "\n",
    "ax1 = fig.add_subplot(131)\n",
    "sns.histplot(y, color = c_0, alpha = 1, ax = ax1)\n",
    "ax2 = plt.twinx()\n",
    "sns.kdeplot(y, color = c_1, ax = ax2)\n",
    "\n",
    "ax3 = fig.add_subplot(132)\n",
    "sns.histplot(np.log1p(y), color = c_0, alpha = 1, ax = ax3)\n",
    "ax4 = plt.twinx()\n",
    "sns.kdeplot(np.log1p(y), color = c_1, ax = ax4)\n",
    "\n",
    "ax5 = fig.add_subplot(133)\n",
    "sns.histplot(StandardScaler().fit_transform(np.log1p(y.values.reshape(-1,1))).reshape(-1,), color = c_0, alpha = 1, ax = ax5)\n",
    "ax6 = plt.twinx()\n",
    "sns.kdeplot(StandardScaler().fit_transform(np.log1p(y.values.reshape(-1,1))).reshape(-1,), color = c_1, ax = ax6)\n",
    "\n",
    "plt.tight_layout()"
   ]
  },
  {
   "cell_type": "markdown",
   "id": "cd12cf54",
   "metadata": {},
   "source": [
    "This time the model shows very poor performances."
   ]
  },
  {
   "cell_type": "markdown",
   "id": "e8e1cd2b",
   "metadata": {},
   "source": [
    "## 1.2.2 Encoding categories"
   ]
  },
  {
   "attachments": {
    "image.png": {
     "image/png": "[encoded data removed]"
    }
   },
   "cell_type": "markdown",
   "id": "e3dd58cf",
   "metadata": {},
   "source": [
    "For the model to be able to process categorical features, the features should be encoded numericaly.\n",
    "\n",
    "![image.png](attachment:image.png)\n",
    "\n",
    "Two methods of encoding have been assessed. The first method replace non-null values by 1 and empty values by 0, indicating the presence or not of a categorical feature for the sample. The second method is OneHot encoding (OHE). OHE is generaly preferend for features with n_features <= 15.\n",
    "\n",
    "Categories with a large number of unique labels or with to much empty values have more chances to have labels representing a low proportion of individuals and could raise errors as labels in the test set could have more chance to not be represented in the train set. This is the case for *SecondLargestPropertyUseType* ans *ThirdLargestPropertyUseType* that must be encoded through the custom encoding strategy."
   ]
  },
  {
   "cell_type": "markdown",
   "id": "314ef084",
   "metadata": {},
   "source": [
    "In order to estimate which feature should be encoded with OHE and which should be encoded with the custom strategy, models have been fed with features encoded differently depending on the number of unique value they contain. As explained earlier, a feature with a low number of unique values have better chances to be better represented with OHE and vice versa."
   ]
  },
  {
   "cell_type": "markdown",
   "id": "6c4735bb",
   "metadata": {},
   "source": [
    "Models have been fed with data that have been encoded differently depending on a threshold. Features with a number of unique values under the threshold have been encoded with the OHE. The other features have been encoded with the custom method. All numerical have also been added.\n",
    "\n",
    "The threshold has then been moved and the performance of each model has been assessed with relevant metrics."
   ]
  },
  {
   "cell_type": "code",
   "execution_count": 13,
   "id": "13b4362b",
   "metadata": {},
   "outputs": [
    {
     "name": "stdout",
     "output_type": "stream",
     "text": [
      "Threshlod = 4\n",
      "      Train                Test                \n",
      "R²   0.719               0.708               \n",
      "MSE  0.281               0.266               \n",
      "RMSE 0.53                0.515               \n",
      "MAE  0.397               0.382               \n",
      "Threshlod = 6\n",
      "      Train                Test                \n",
      "R²   0.723               0.714               \n",
      "MSE  0.277               0.26                \n",
      "RMSE 0.527               0.51                \n",
      "MAE  0.393               0.376               \n",
      "Threshlod = 15\n",
      "      Train                Test                \n",
      "R²   0.732               0.717               \n",
      "MSE  0.268               0.257               \n",
      "RMSE 0.517               0.507               \n",
      "MAE  0.387               0.373               \n",
      "Threshlod = 23\n",
      "      Train                Test                \n",
      "R²   0.814               0.795               \n",
      "MSE  0.186               0.187               \n",
      "RMSE 0.431               0.432               \n",
      "MAE  0.317               0.317               \n",
      "Threshlod = 41\n",
      "      Train                Test                \n",
      "R²   0.823               0.789               \n",
      "MSE  0.177               0.192               \n",
      "RMSE 0.421               0.438               \n",
      "MAE  0.31                0.323               \n",
      "Threshlod = 49\n",
      "      Train                Test                \n",
      "R²   0.824               0.794               \n",
      "MSE  0.176               0.187               \n",
      "RMSE 0.419               0.433               \n",
      "MAE  0.311               0.317               \n",
      "Threshlod = 56\n",
      "      Train                Test                \n",
      "R²   0.836               0.799               \n",
      "MSE  0.164               0.183               \n",
      "RMSE 0.405               0.428               \n",
      "MAE  0.301               0.313               \n"
     ]
    }
   ],
   "source": [
    "'''\n",
    "x and y preprocessing\n",
    "'''\n",
    "\n",
    "x = df.drop(['TotalGHGEmissions', 'ENERGYSTARScore', 'SiteEnergyUse(kBtu)'], axis = 1)\n",
    "y = df['TotalGHGEmissions']\n",
    "\n",
    "# Train and test split\n",
    "x_train, x_test, y_train, y_test = train_test_split(x, y, test_size = 0.2, random_state = 0)\n",
    "\n",
    "\n",
    "\n",
    "# Target preprocessing\n",
    "\n",
    "t_scaler = StandardScaler().fit(np.log1p(y_train.values.reshape(-1,1)))\n",
    "\n",
    "y_train = t_scaler.transform(np.log1p(y_train).values.reshape(-1,1))\n",
    "y_test = t_scaler.transform(np.log1p(y_test).values.reshape(-1,1))\n",
    "\n",
    "\n",
    "# Features preprocessing\n",
    "\n",
    "# split categorical and numerical columns\n",
    "\n",
    "col_cat = x.select_dtypes(exclude = [float, int]).columns\n",
    "\n",
    "col_num = x.select_dtypes(include = [float, int]).columns\n",
    "\n",
    "# Numerical features preprocessing\n",
    "# split log and non-log numerical data\n",
    "\n",
    "col_log_num = [col for col in col_num if col in log_list]\n",
    "\n",
    "col_nonLog_num = [col for col in col_num if col not in log_list]\n",
    "\n",
    "pipe_log = make_pipeline(LogTransformer, StandardScaler()) # Creating a pipepline to both transform to log and scale numerical data\n",
    "\n",
    "\n",
    "\n",
    "\n",
    "\n",
    "r_quared_train = [] # The score obtained on the test and train set are recorded to draw curves latter\n",
    "r_quared_test = [] \n",
    "\n",
    "# Categorical feature preprocessing\n",
    "# split cat depending on the number of unique labels per cat\n",
    "\n",
    "for cat_threshold in [4, 6, 15, 23, 41, 49, 56]: # Under this threshold, HOE is performed\n",
    "\n",
    "    print(f'Threshlod = {cat_threshold}')\n",
    "    \n",
    "    col_cat_HOE = [col for col in col_cat if df[col].nunique() <= cat_threshold]\n",
    "\n",
    "\n",
    "    col_custom_cat_encoder = ['LargestPropertyUseType', 'SecondLargestPropertyUseType','ThirdLargestPropertyUseType']\n",
    "\n",
    "\n",
    "\n",
    "\n",
    "    # Combining the preprocessing transformers\n",
    "\n",
    "    transformer = make_column_transformer((pipe_log, col_log_num),\n",
    "                                          (StandardScaler(), col_nonLog_num),\n",
    "                                          (OneHotEncoder(handle_unknown = 'ignore'), col_cat_HOE),\n",
    "                                          (custom_cat_encoder, col_custom_cat_encoder)) # Ordinal encoded data have been removed\n",
    "\n",
    "\n",
    "\n",
    "\n",
    "\n",
    "    model = Ridge()\n",
    "\n",
    "    params_cv = {'ridge__alpha' : np.logspace(-2, 3, 10)}\n",
    "\n",
    "\n",
    "    model = model_eval(transformer, Ridge(), params_cv, x_train, x_test, y_train, y_test)\n",
    "    \n",
    "    r_quared_test.append(model.score(x_test, y_test))\n",
    "    r_quared_train.append(model.score(x_train, y_train))"
   ]
  },
  {
   "cell_type": "markdown",
   "id": "919c837c",
   "metadata": {},
   "source": [
    "The performances of the models depending on the threshold have been represented graphicaly:"
   ]
  },
  {
   "cell_type": "code",
   "execution_count": 14,
   "id": "f4c8c7c8",
   "metadata": {},
   "outputs": [
    {
     "data": {
      "image/png": "[encoded data removed]",
      "text/plain": [
       "<Figure size 432x288 with 1 Axes>"
      ]
     },
     "metadata": {
      "needs_background": "light"
     },
     "output_type": "display_data"
    }
   ],
   "source": [
    "# The curves of the score depending on the threshold can be displayed\n",
    "fig, ax = plt.subplots()\n",
    "\n",
    "sns.scatterplot(x = [4, 6, 15, 23, 41, 49, 56], y = r_quared_test, label = 'Test', color = c_0, ax = ax)\n",
    "sns.scatterplot(x = [4, 6, 15, 23, 41, 49, 56], y = r_quared_train, label = 'Train', color = c_1, ax = ax)\n",
    "\n",
    "ax.set_xlabel('Threshold')\n",
    "ax.set_ylabel('Score (R²)')\n",
    "ax.set_xticks([4, 6, 15, 23, 41, 49, 56])\n",
    "\n",
    "ax.set_title('R² of the Ridge model depending on the threshold\\n')\n",
    "\n",
    "plt.show()"
   ]
  },
  {
   "cell_type": "code",
   "execution_count": 15,
   "id": "cc8ea92e",
   "metadata": {},
   "outputs": [
    {
     "data": {
      "text/plain": [
       "BuildingType                     5\n",
       "PrimaryPropertyType             22\n",
       "Neighborhood                    14\n",
       "LargestPropertyUseType          55\n",
       "SecondLargestPropertyUseType    48\n",
       "ThirdLargestPropertyUseType     40\n",
       "streetType                       5\n",
       "dtype: int64"
      ]
     },
     "execution_count": 15,
     "metadata": {},
     "output_type": "execute_result"
    }
   ],
   "source": [
    "df[col_cat].nunique()"
   ]
  },
  {
   "cell_type": "markdown",
   "id": "7dd4af29",
   "metadata": {},
   "source": [
    "The model shows this time way better performances with low to no overfitting and no traces of underfitting\n",
    "\n",
    "The model show improved performances until an threshold of 23 (meaning including *PrimaryPropertyType* in the HOE encoding). Higher thresholds do not significantly improves the model performances."
   ]
  },
  {
   "cell_type": "markdown",
   "id": "78f27e91",
   "metadata": {},
   "source": [
    "### 1.2.3 Polynomial features"
   ]
  },
  {
   "cell_type": "markdown",
   "id": "53d25d72",
   "metadata": {},
   "source": [
    "As certain relationships could be non linear, the influence en adding polynomial features of various degrees is observed"
   ]
  },
  {
   "cell_type": "code",
   "execution_count": 16,
   "id": "85109822",
   "metadata": {},
   "outputs": [
    {
     "name": "stdout",
     "output_type": "stream",
     "text": [
      "      Train                Test                \n",
      "R²   0.84                0.807               \n",
      "MSE  0.16                0.176               \n",
      "RMSE 0.4                 0.419               \n",
      "MAE  0.295               0.31                \n"
     ]
    }
   ],
   "source": [
    "'''\n",
    "x and y preprocessing\n",
    "'''\n",
    "\n",
    "x = df.drop(['TotalGHGEmissions', 'ENERGYSTARScore', 'SiteEnergyUse(kBtu)'], axis = 1)\n",
    "y = df['TotalGHGEmissions']\n",
    "\n",
    "# Train and test split\n",
    "x_train, x_test, y_train, y_test = train_test_split(x, y, test_size = 0.2, random_state = 0)\n",
    "\n",
    "# Target preprocessing\n",
    "\n",
    "t_scaler = StandardScaler().fit(np.log1p(y_train.values.reshape(-1,1)))\n",
    "\n",
    "y_train = t_scaler.transform(np.log1p(y_train).values.reshape(-1,1))\n",
    "y_test = t_scaler.transform(np.log1p(y_test).values.reshape(-1,1))\n",
    "\n",
    "\n",
    "\n",
    "# split categorical and numerical columns\n",
    "\n",
    "col_cat = x.select_dtypes(exclude = [float, int]).columns\n",
    "\n",
    "col_num = x.select_dtypes(include = [float, int]).columns\n",
    "\n",
    "# Numerical features preprocessing\n",
    "# split log and non-log numerical data\n",
    "\n",
    "col_log_num = [col for col in col_num if col in log_list]\n",
    "\n",
    "col_nonLog_num = [col for col in col_num if col not in log_list]\n",
    "\n",
    "pipe_log = make_pipeline(LogTransformer, PolynomialFeatures(), StandardScaler()) # Creating a pipepline to both transform to log, add polynomial features and scale numerical data\n",
    "\n",
    "pipe_nonLog = make_pipeline(PolynomialFeatures(), StandardScaler()) # Creating a pipepline to both add polynomial features and scale numerical data\n",
    "\n",
    "\n",
    "\n",
    "# Categorical feature preprocessing\n",
    "# split cat depending on the number of unique labels per cat\n",
    "\n",
    "cat_threshold = 25\n",
    "    \n",
    "col_cat_HOE = [col for col in col_cat if df[col].nunique() <= cat_threshold]\n",
    "\n",
    "\n",
    "col_custom_cat_encoder = ['LargestPropertyUseType', 'SecondLargestPropertyUseType','ThirdLargestPropertyUseType']\n",
    "\n",
    "\n",
    "\n",
    "\n",
    "# Combining the preprocessing transformers\n",
    "\n",
    "transformer = make_column_transformer((pipe_log, col_log_num),\n",
    "                                    (pipe_nonLog, col_nonLog_num),\n",
    "                                    (OneHotEncoder(handle_unknown = 'ignore'), col_cat_HOE),\n",
    "                                    (custom_cat_encoder, col_custom_cat_encoder)) # Ordinal encoded data have been removed\n",
    "\n",
    "\n",
    "\n",
    "\n",
    "\n",
    "model = Ridge()\n",
    "\n",
    "params_cv = {'columntransformer__pipeline-2__polynomialfeatures__degree' : [1, 2, 3, 4],\n",
    "             'columntransformer__pipeline-1__polynomialfeatures__degree' : [1, 2, 3, 4],\n",
    "             'ridge__alpha' : np.logspace(-3, -2, 1, 3)}\n",
    "\n",
    "\n",
    "model = model_eval(transformer, Ridge(), params_cv, x_train, x_test, y_train, y_test)"
   ]
  },
  {
   "cell_type": "code",
   "execution_count": 17,
   "id": "f9720aef",
   "metadata": {},
   "outputs": [
    {
     "data": {
      "text/plain": [
       "{'columntransformer__pipeline-1__polynomialfeatures__degree': 2,\n",
       " 'columntransformer__pipeline-2__polynomialfeatures__degree': 2,\n",
       " 'ridge__alpha': 0.001}"
      ]
     },
     "execution_count": 17,
     "metadata": {},
     "output_type": "execute_result"
    }
   ],
   "source": [
    "model.best_params_"
   ]
  },
  {
   "cell_type": "markdown",
   "id": "3edb35ee",
   "metadata": {},
   "source": [
    "It can be observed that polynomial features have a mild influence on the *TotalGHGEmissions* prediction and will thus not remain in the data procession procedure."
   ]
  },
  {
   "cell_type": "markdown",
   "id": "67ccac99",
   "metadata": {},
   "source": [
    "From features weights analysis is can be observed that :\n",
    "\n",
    "- Have a low influence\n",
    "    - Neighborhood\n",
    "    - streetType\n",
    "    - LargetPropertyUseType\n",
    "    - SecondLargestPropertyUseType\n",
    "    - ThirdLargestPropertyUseType\n",
    "    \n",
    "\n",
    "- Have a mild (-) influence\n",
    "    - Number of building\n",
    "    - Number of floors\n",
    "    - distance(km)\n",
    "    \n",
    "\n",
    "- Have a mild (+) influence\n",
    "    - BuildingType\n",
    "    - PropertyGFABuilding(s)\n",
    "    - PropertyGFAParking\n",
    "    \n",
    "    \n",
    "- Have a strong influence\n",
    "    - PrimaryPropertyType\n",
    "    - Energy proportion\n",
    "    - Year Build\n",
    "    \n",
    "\n",
    "\n",
    "Thus, for the sake of readability, the data preprocessing is summarized in a function.\n",
    "\n",
    "The performances of the model through this function employing only features with important and mild weights are assessed."
   ]
  },
  {
   "cell_type": "code",
   "execution_count": 19,
   "id": "70465056",
   "metadata": {},
   "outputs": [],
   "source": [
    "def preprocessing(target):\n",
    "    x = df.drop(['TotalGHGEmissions',\n",
    "                 'ENERGYSTARScore',\n",
    "                 'SiteEnergyUse(kBtu)',\n",
    "                 'Neighborhood',\n",
    "                 'streetType',\n",
    "                 'LargestPropertyUseType',\n",
    "                 'SecondLargestPropertyUseType',\n",
    "                 'ThirdLargestPropertyUseType',\n",
    "                 'NumberofBuildings',\n",
    "                 'Imp_NumberofFloors',\n",
    "                 'distance(km)'], axis = 1)\n",
    "\n",
    "    y = df[target]\n",
    "\n",
    "    # Train and test split\n",
    "    x_train, x_test, y_train, y_test = train_test_split(x, y, test_size = 0.3, random_state = 0)\n",
    "    \n",
    "    # Target preprocessing\n",
    "\n",
    "    t_scaler = StandardScaler().fit(np.log1p(y_train.values.reshape(-1,1)))\n",
    "\n",
    "    y_train = t_scaler.transform(np.log1p(y_train).values.reshape(-1,1)).reshape(-1,)\n",
    "    y_test = t_scaler.transform(np.log1p(y_test).values.reshape(-1,1)).reshape(-1,)\n",
    "    \n",
    "    \n",
    "\n",
    "    # split categorical and numerical columns\n",
    "\n",
    "    col_cat = x.select_dtypes(exclude = [float, int]).columns\n",
    "\n",
    "    col_num = x.select_dtypes(include = [float, int]).columns\n",
    "\n",
    "    # Numerical features preprocessing\n",
    "    # split log and non-log numerical data\n",
    "\n",
    "    col_log_num = [col for col in col_num if col in log_list]\n",
    "\n",
    "    col_nonLog_num = [col for col in col_num if col not in log_list]\n",
    "\n",
    "    pipe_log = make_pipeline(LogTransformer, StandardScaler()) # Creating a pipepline to both transform to log, add polynomial features and scale numerical data\n",
    "\n",
    "    pipe_nonLog = make_pipeline(StandardScaler()) # Creating a pipepline to both add polynomial features and scale numerical data\n",
    "\n",
    "\n",
    "\n",
    "    # Categorical feature preprocessing\n",
    "    # split cat depending on the number of unique labels per cat\n",
    "\n",
    "    cat_threshold = 25\n",
    "\n",
    "    col_cat_HOE = [col for col in col_cat if df[col].nunique() <= cat_threshold]\n",
    "\n",
    "\n",
    "\n",
    "\n",
    "\n",
    "\n",
    "\n",
    "    # Combining the preprocessing transformers\n",
    "\n",
    "    transformer = make_column_transformer((pipe_log, col_log_num),\n",
    "                                        (pipe_nonLog, col_nonLog_num),\n",
    "                                        (OneHotEncoder(handle_unknown = 'ignore'), col_cat_HOE))\n",
    "    \n",
    "    return x_train, x_test, y_train, y_test, transformer, t_scaler"
   ]
  },
  {
   "cell_type": "code",
   "execution_count": 21,
   "id": "c949c852",
   "metadata": {},
   "outputs": [
    {
     "name": "stdout",
     "output_type": "stream",
     "text": [
      "Target :  TotalGHGEmissions\n",
      "      Train                Test                \n",
      "R²   0.814               0.783               \n",
      "MSE  0.186               0.189               \n",
      "RMSE 0.431               0.435               \n",
      "MAE  0.314               0.327               \n"
     ]
    }
   ],
   "source": [
    "'''\n",
    "x and y preprocessing\n",
    "'''\n",
    "for target in ['TotalGHGEmissions']:\n",
    "    print('Target : ', target) \n",
    "    \n",
    "    model = Ridge()\n",
    "\n",
    "    params_cv = {'ridge__alpha' : np.logspace(-3, 2, 10)}\n",
    "\n",
    "    \n",
    "    x_train, x_test, y_train, y_test, transformer, t_scaler = preprocessing(target)\n",
    "    \n",
    "    model = model_eval(transformer, Ridge(), params_cv, x_train, x_test, y_train, y_test)"
   ]
  },
  {
   "cell_type": "markdown",
   "id": "ca0a37fc",
   "metadata": {},
   "source": [
    "# 2. Model selection "
   ]
  },
  {
   "cell_type": "markdown",
   "id": "0907a77c",
   "metadata": {},
   "source": [
    "Now that features have been selected and engineered, several machine learning models have been applied, fed with the data, optimized with cross-validation and assessed with the relevant metrics."
   ]
  },
  {
   "cell_type": "markdown",
   "id": "76b3e150",
   "metadata": {},
   "source": [
    "## 2.1 Assessment of a list of models"
   ]
  },
  {
   "cell_type": "code",
   "execution_count": 23,
   "id": "27cbbca5",
   "metadata": {},
   "outputs": [
    {
     "name": "stderr",
     "output_type": "stream",
     "text": [
      "C:\\ProgramData\\Anaconda3\\envs\\Project_3\\lib\\site-packages\\xgboost\\compat.py:36: FutureWarning: pandas.Int64Index is deprecated and will be removed from pandas in a future version. Use pandas.Index with the appropriate dtype instead.\n",
      "  from pandas import MultiIndex, Int64Index\n"
     ]
    },
    {
     "name": "stdout",
     "output_type": "stream",
     "text": [
      "Target :  TotalGHGEmissions\n",
      "Model :  LinearRegression()\n",
      "      Train                Test                \n",
      "R²   0.814               -1.9e+20            \n",
      "MSE  0.186               1.66e+20            \n",
      "RMSE 0.431               1.29e+10            \n",
      "MAE  0.314               5.79e+08            \n",
      "Model :  Ridge()\n",
      "      Train                Test                \n",
      "R²   0.814               0.783               \n",
      "MSE  0.186               0.189               \n",
      "RMSE 0.431               0.435               \n",
      "MAE  0.314               0.327               \n",
      "Model :  Lasso(max_iter=2000, tol=0.001)\n",
      "      Train                Test                \n",
      "R²   0.814               0.783               \n",
      "MSE  0.186               0.189               \n",
      "RMSE 0.431               0.435               \n",
      "MAE  0.314               0.326               \n",
      "Model :  SVR()\n",
      "      Train                Test                \n",
      "R²   0.81                0.784               \n",
      "MSE  0.19                0.188               \n",
      "RMSE 0.436               0.434               \n",
      "MAE  0.31                0.324               \n",
      "Model :  DecisionTreeRegressor()\n",
      "      Train                Test                \n",
      "R²   0.85                0.675               \n",
      "MSE  0.15                0.283               \n",
      "RMSE 0.387               0.532               \n",
      "MAE  0.299               0.4                 \n",
      "Model :  RandomForestRegressor()\n",
      "      Train                Test                \n",
      "R²   0.977               0.8                 \n",
      "MSE  0.0227              0.174               \n",
      "RMSE 0.151               0.417               \n",
      "MAE  0.112               0.305               \n",
      "Model :  XGBRegressor(base_score=None, booster=None, colsample_bylevel=None,\n",
      "             colsample_bynode=None, colsample_bytree=None,\n",
      "             enable_categorical=False, gamma=None, gpu_id=None,\n",
      "             importance_type=None, interaction_constraints=None,\n",
      "             learning_rate=None, max_delta_step=None, max_depth=None,\n",
      "             min_child_weight=None, missing=nan, monotone_constraints=None,\n",
      "             n_estimators=100, n_jobs=None, num_parallel_tree=None,\n",
      "             predictor=None, random_state=None, reg_alpha=None, reg_lambda=None,\n",
      "             scale_pos_weight=None, subsample=None, tree_method=None,\n",
      "             validate_parameters=None, verbosity=None)\n",
      "      Train                Test                \n",
      "R²   0.997               0.81                \n",
      "MSE  0.00292             0.166               \n",
      "RMSE 0.054               0.407               \n",
      "MAE  0.0379              0.311               \n"
     ]
    }
   ],
   "source": [
    "from sklearn.linear_model import LinearRegression\n",
    "from sklearn.linear_model import Lasso\n",
    "from sklearn.svm import SVR\n",
    "from sklearn.tree import DecisionTreeRegressor\n",
    "from sklearn.ensemble import RandomForestRegressor\n",
    "from xgboost import XGBRegressor\n",
    "\n",
    "from sklearn.model_selection import learning_curve\n",
    "\n",
    "\n",
    "\n",
    "\n",
    "\n",
    "\n",
    "model_list = [[LinearRegression(), {}],\n",
    "              [Ridge(), {'ridge__alpha' : np.logspace(-3,2,10)}],\n",
    "              [Lasso(max_iter = 2000, tol = 0.001), {'lasso__alpha' : np.logspace(-3,2,10)}],\n",
    "              [SVR(), {'svr__C' : np.logspace(-3,0,10), 'svr__kernel' : ['linear', 'poly', 'rbf', 'sigmoid']}],\n",
    "              [DecisionTreeRegressor(), {'decisiontreeregressor__min_samples_leaf' : [1, 10, 100]}],\n",
    "              [RandomForestRegressor(), {'randomforestregressor__min_samples_leaf' : [1, 10, 100]}],\n",
    "              [XGBRegressor(), {}]]\n",
    "\n",
    "model_dict = {}\n",
    "\n",
    "for target in ['TotalGHGEmissions']:\n",
    "    print('Target : ', target)\n",
    "    \n",
    "    # Data Preprocessing\n",
    "    x_train, x_test, y_train, y_test, transformer, t_scaler = preprocessing(target)\n",
    "    \n",
    "\n",
    "    for model_and_params in model_list:\n",
    "        print('Model : ', model_and_params[0])\n",
    "\n",
    "        model = model_and_params[0]\n",
    "\n",
    "        params_cv = model_and_params[1]\n",
    "        \n",
    "        # The new model is added to the dict for further evaluation\n",
    "        model_dict[str(model_and_params[0])] = model_eval(transformer, model, params_cv, x_train, x_test, y_train, y_test)\n"
   ]
  },
  {
   "cell_type": "markdown",
   "id": "22f239af",
   "metadata": {},
   "source": [
    "For the target *TotalGHGEmissions*\n",
    "\n",
    "- The higher score without traces of overfitting is the lasso.\n",
    "- The higher score but with clear overfitting is the RandomForestRegressor and XGBRegressor.\n",
    "\n",
    "\n",
    "Thus these two models will be further optimised for the determination of both targets"
   ]
  },
  {
   "cell_type": "markdown",
   "id": "4468921c",
   "metadata": {},
   "source": [
    "## 2.2 Ridge regression"
   ]
  },
  {
   "cell_type": "code",
   "execution_count": 25,
   "id": "d27e9eb2",
   "metadata": {},
   "outputs": [],
   "source": [
    "# Data Preprocessing\n",
    "x_train, x_test, y_train, y_test, transformer, t_scaler = preprocessing('TotalGHGEmissions')"
   ]
  },
  {
   "cell_type": "code",
   "execution_count": 26,
   "id": "dd4b9493",
   "metadata": {},
   "outputs": [
    {
     "name": "stdout",
     "output_type": "stream",
     "text": [
      "      Train                Test                \n",
      "R²   0.815               0.783               \n",
      "MSE  0.185               0.19                \n",
      "RMSE 0.43                0.435               \n",
      "MAE  0.312               0.327               \n"
     ]
    }
   ],
   "source": [
    "model = Ridge()\n",
    "\n",
    "params_cv = {'ridge__alpha': np.logspace(-4, 2, 10)}\n",
    "\n",
    "\n",
    "model = model_eval(transformer, model, params_cv, x_train, x_test, y_train, y_test)"
   ]
  },
  {
   "cell_type": "code",
   "execution_count": 27,
   "id": "50760359",
   "metadata": {},
   "outputs": [
    {
     "data": {
      "text/plain": [
       "{'ridge__alpha': 1.0}"
      ]
     },
     "execution_count": 27,
     "metadata": {},
     "output_type": "execute_result"
    }
   ],
   "source": [
    "model.best_params_"
   ]
  },
  {
   "cell_type": "markdown",
   "id": "7f0d68d5",
   "metadata": {},
   "source": [
    "The Ridge model shows good performances but with traces of overfitting"
   ]
  },
  {
   "cell_type": "markdown",
   "id": "5f9a6f27",
   "metadata": {},
   "source": [
    "## 2.3 XGboost"
   ]
  },
  {
   "cell_type": "code",
   "execution_count": 28,
   "id": "44171c83",
   "metadata": {},
   "outputs": [
    {
     "name": "stdout",
     "output_type": "stream",
     "text": [
      "      Train                Test                \n",
      "R²   0.879               0.82                \n",
      "MSE  0.121               0.157               \n",
      "RMSE 0.348               0.397               \n",
      "MAE  0.268               0.307               \n"
     ]
    }
   ],
   "source": [
    "model = XGBRegressor(booster='gbtree', max_depth = 1)\n",
    "\n",
    "params_cv = {'xgbregressor__eta' : [0.1, 0.3, 0.4],\n",
    "             'xgbregressor__subsample' : [0.5, 0.75, 1]}\n",
    "\n",
    "\n",
    "model = model_eval(transformer, model, params_cv, x_train, x_test, y_train, y_test)"
   ]
  },
  {
   "cell_type": "code",
   "execution_count": 29,
   "id": "9b75af7b",
   "metadata": {},
   "outputs": [
    {
     "data": {
      "text/plain": [
       "{'xgbregressor__eta': 0.4, 'xgbregressor__subsample': 0.75}"
      ]
     },
     "execution_count": 29,
     "metadata": {},
     "output_type": "execute_result"
    }
   ],
   "source": [
    "model.best_params_"
   ]
  },
  {
   "cell_type": "markdown",
   "id": "bdd6e810",
   "metadata": {},
   "source": [
    "# 3. Model evaluation"
   ]
  },
  {
   "cell_type": "markdown",
   "id": "b2878191",
   "metadata": {},
   "source": [
    "The capacity of the model to generalise and give accurate predictions is assesed from various metrics."
   ]
  },
  {
   "cell_type": "markdown",
   "id": "7ee47db6",
   "metadata": {},
   "source": [
    "The model selected is the Ridge(alpha = 1) because of its good performances, low overfitting and simplicity."
   ]
  },
  {
   "cell_type": "code",
   "execution_count": 32,
   "id": "ccb3ad85",
   "metadata": {},
   "outputs": [],
   "source": [
    "# For the sake of simplicity, the procedure is stored in a function\n",
    "def evaluate_log_target(pipe, x_train, x_test, y_train, y_test):\n",
    "    # First the model is again evaluated on the train and test set (in log)\n",
    "    y_train_pred = pipe.predict(x_train)\n",
    "    y_test_pred = pipe.predict(x_test)\n",
    "\n",
    "    prediction = [] # Store predicted y to compare with original y\n",
    "\n",
    "    r2 = [] # Store coef of determination\n",
    "    mse = [] # Store mean squared error\n",
    "    rmse= [] # Store Root mean squared error\n",
    "    mae = [] # Store mean average error\n",
    "\n",
    "    for x, y in [(x_train, y_train), (x_test, y_test)]:\n",
    "        y_pred = pipe.predict(x)\n",
    "        prediction.append(y_pred)\n",
    "\n",
    "        r2.append(r2_score(y, y_pred))\n",
    "        mse.append(mean_squared_error(y, y_pred))\n",
    "        rmse.append(mean_squared_error(y, y_pred, squared = False))\n",
    "        mae.append(mean_absolute_error(y, y_pred))\n",
    "\n",
    "\n",
    "    fig = plt.figure(figsize = (12,4))\n",
    "\n",
    "    ax1 = fig.add_subplot(1,3,1)\n",
    "    sns.barplot(x = ['Train', 'Test'], y = r2, ax = ax1, palette = [c_0, c_1])\n",
    "    ax1.set_ylim(0,1)\n",
    "    ax1.set_ylabel('Coefficient of determination (R²)')\n",
    "\n",
    "    ax2 = fig.add_subplot(1,3,2)\n",
    "    sns.regplot(x = y_train, y = prediction[0], ax = ax2, color = c_0, line_kws = {'color' : c_1})\n",
    "    ax2.set_ylabel('Prediction on x_train')\n",
    "    ax2.set_xlabel('y_train')\n",
    "\n",
    "    ax3 = fig.add_subplot(1,3,3)\n",
    "    sns.regplot(x = y_test, y = prediction[1], ax = ax3, color = c_0, line_kws = {'color' : c_1})\n",
    "    ax3.set_ylabel('Prediction on x_test')\n",
    "    ax3.set_xlabel('y_test')\n",
    "    \n",
    "    return r2, mse, rmse, mae\n"
   ]
  },
  {
   "cell_type": "code",
   "execution_count": 33,
   "id": "3c4b0748",
   "metadata": {},
   "outputs": [],
   "source": [
    "# Secondly the model is evaluated this time on the targets in their original unit\n",
    "# For the sake of simplicity, the procedure is stored in a function\n",
    "\n",
    "def evaluate_target(pipe, x_train, x_test, y_train, y_test):\n",
    "    # The inverse of the StandardScaler and Log1p transformation is applied to the targets\n",
    "    y_train_pred = np.expm1(t_scaler.inverse_transform(pipe.predict(x_train).reshape(-1,1)))\n",
    "    y_test_pred = np.expm1(t_scaler.inverse_transform(pipe.predict(x_test).reshape(-1,1)))\n",
    "\n",
    "    y_train_inv = np.expm1(t_scaler.inverse_transform(y_train.reshape(-1,1)))\n",
    "    y_test_inv = np.expm1(t_scaler.inverse_transform(y_test.reshape(-1,1)))\n",
    "\n",
    "\n",
    "    prediction = [] # Store predicted y to compare with original y\n",
    "\n",
    "    r2 = [] # Store coef of determination\n",
    "    mse = [] # Store mean squared error\n",
    "    rmse= [] # Store Root mean squared error\n",
    "    mae = [] # Store mean average error\n",
    "\n",
    "    for y, y_pred in [(y_train_inv, y_train_pred), (y_test_inv, y_test_pred)]:\n",
    "\n",
    "        r2.append(r2_score(y, y_pred))\n",
    "        mse.append(mean_squared_error(y, y_pred))\n",
    "        rmse.append(mean_squared_error(y, y_pred, squared = False))\n",
    "        mae.append(mean_absolute_error(y, y_pred))\n",
    "\n",
    "\n",
    "\n",
    "    fig = plt.figure(figsize = (12,10))\n",
    "\n",
    "    ax1 = fig.add_subplot(3,2,1)\n",
    "    sns.barplot(x = ['Train', 'Test'], y = r2, ax = ax1, palette = [c_0, c_1])\n",
    "    ax1.set_ylim(0,1)\n",
    "    ax1.set_ylabel('Coefficient of determination (R²)')\n",
    "\n",
    "    ax2 = fig.add_subplot(3,2,2)\n",
    "    sns.barplot(x = ['Train', 'Test'], y = mse, ax = ax2, palette = [c_0, c_1])\n",
    "    ax2.set_ylabel('Mean Squared Error')\n",
    "\n",
    "    ax3 = fig.add_subplot(3,2,3)\n",
    "    sns.barplot(x = ['Train', 'Test'], y = rmse, ax = ax3, palette = [c_0, c_1])\n",
    "    ax3.set_ylabel('Root Mean Squared Error')\n",
    "\n",
    "    ax4 = fig.add_subplot(3,2,4)\n",
    "    sns.barplot(x = ['Train', 'Test'], y = mae, ax = ax4, palette = [c_0, c_1])\n",
    "    ax4.set_ylabel('Mean Absolute Error')\n",
    "\n",
    "    ax5 = fig.add_subplot(3,2,5)\n",
    "    sns.regplot(x = y_train_inv, y = y_train_pred, ax = ax5, color = c_0, line_kws = {'color' : c_1})\n",
    "    ax5.set_ylabel('Prediction on x_train')\n",
    "    ax5.set_xlabel('y_train')\n",
    "\n",
    "    ax6 = fig.add_subplot(3,2,6)\n",
    "    sns.regplot(x = y_test_inv, y = y_test_pred, ax = ax6, color = c_0, line_kws = {'color' : c_1})\n",
    "    ax6.set_ylabel('Prediction on x_test')\n",
    "    ax6.set_xlabel('y_test')\n",
    "    \n",
    "    return r2, mse, rmse, mae"
   ]
  },
  {
   "cell_type": "markdown",
   "id": "75a8bb6b",
   "metadata": {},
   "source": [
    "The model have been trained? Then a graph representing the **R²** as well as the **model predictions versus the true values** for the test and train set have been displayed."
   ]
  },
  {
   "cell_type": "code",
   "execution_count": 34,
   "id": "3cfaaff7",
   "metadata": {
    "scrolled": true
   },
   "outputs": [
    {
     "data": {
      "image/png": "[encoded data removed]",
      "text/plain": [
       "<Figure size 864x288 with 3 Axes>"
      ]
     },
     "metadata": {
      "needs_background": "light"
     },
     "output_type": "display_data"
    }
   ],
   "source": [
    "# Data Preprocessing\n",
    "x_train, x_test, y_train, y_test, transformer, t_scaler = preprocessing('TotalGHGEmissions')\n",
    "\n",
    "model = Ridge(alpha = 1)\n",
    "pipe = make_pipeline(transformer, model)\n",
    "pipe.fit(x_train, y_train)\n",
    "\n",
    "r2, mse, rmse, mae = evaluate_log_target(pipe, x_train, x_test, y_train, y_test)"
   ]
  },
  {
   "cell_type": "markdown",
   "id": "91a879b9",
   "metadata": {},
   "source": [
    "The results obtained corresponds to predictions of scaled values. However, the predicted values can be transformed in their original unit for a better clarity. The metrics (R², MSE, RMSE and MAE) have been calculated and displayed graphically for the model predictions in the original units.\n",
    "\n",
    "The prediction versus true values for the test and train set have been displayed as well."
   ]
  },
  {
   "cell_type": "code",
   "execution_count": 35,
   "id": "a1ba5a09",
   "metadata": {},
   "outputs": [
    {
     "data": {
      "image/png": "[encoded data removed]",
      "text/plain": [
       "<Figure size 864x720 with 6 Axes>"
      ]
     },
     "metadata": {
      "needs_background": "light"
     },
     "output_type": "display_data"
    }
   ],
   "source": [
    "r2, mse, rmse, mae = evaluate_target(pipe, x_train, x_test, y_train, y_test)"
   ]
  },
  {
   "cell_type": "code",
   "execution_count": 36,
   "id": "63f803bf",
   "metadata": {},
   "outputs": [
    {
     "data": {
      "text/plain": [
       "[0.5417968248738996, 0.9533672890588644]"
      ]
     },
     "execution_count": 36,
     "metadata": {},
     "output_type": "execute_result"
    }
   ],
   "source": [
    "# Coef of determination (Train, Test)\n",
    "\n",
    "r2"
   ]
  },
  {
   "cell_type": "code",
   "execution_count": 37,
   "id": "f20e3fe5",
   "metadata": {},
   "outputs": [
    {
     "data": {
      "text/plain": [
       "[263657.05487054714, 14957.382280848318]"
      ]
     },
     "execution_count": 37,
     "metadata": {},
     "output_type": "execute_result"
    }
   ],
   "source": [
    "# Mean squared error (Train, Test)\n",
    "\n",
    "mse"
   ]
  },
  {
   "cell_type": "code",
   "execution_count": 38,
   "id": "4fba62ac",
   "metadata": {},
   "outputs": [
    {
     "data": {
      "text/plain": [
       "[513.4754666686104, 122.3003772718969]"
      ]
     },
     "execution_count": 38,
     "metadata": {},
     "output_type": "execute_result"
    }
   ],
   "source": [
    "# Root mean squared error (Train, Test)\n",
    "\n",
    "rmse"
   ]
  },
  {
   "cell_type": "code",
   "execution_count": 39,
   "id": "0182e875",
   "metadata": {},
   "outputs": [
    {
     "data": {
      "text/plain": [
       "[88.29286911229549, 51.15738419520376]"
      ]
     },
     "execution_count": 39,
     "metadata": {},
     "output_type": "execute_result"
    }
   ],
   "source": [
    "# Mean average error (Train, Test)\n",
    "\n",
    "mae"
   ]
  },
  {
   "cell_type": "markdown",
   "id": "aa311578",
   "metadata": {},
   "source": [
    "# 4. Influence of the *ENERGYSTARScore*"
   ]
  },
  {
   "cell_type": "markdown",
   "id": "841c17e9",
   "metadata": {},
   "source": [
    "Influence of the use of the feature *Energystarscore* as a parameter is then evaluated"
   ]
  },
  {
   "cell_type": "markdown",
   "id": "1726ed1b",
   "metadata": {},
   "source": [
    "First, as this score is missing for multiple samples, only samples containg a *ENERGYSTARScore* are kept in the database.\n",
    "\n",
    "Then the model previously optimised is again optimized but this time with the new feature."
   ]
  },
  {
   "cell_type": "code",
   "execution_count": 40,
   "id": "a386ebd9",
   "metadata": {},
   "outputs": [
    {
     "data": {
      "text/plain": [
       "(1090, 22)"
      ]
     },
     "execution_count": 40,
     "metadata": {},
     "output_type": "execute_result"
    }
   ],
   "source": [
    "df_ESS = df.dropna(subset = ['ENERGYSTARScore']) # Dataframe with complete ENERGYSTARScore\n",
    "df_ESS.shape"
   ]
  },
  {
   "cell_type": "markdown",
   "id": "ffebae1a",
   "metadata": {},
   "source": [
    "The field *ENERGYSTARScore* is checked for outliers"
   ]
  },
  {
   "cell_type": "code",
   "execution_count": 41,
   "id": "0dbf1e9a",
   "metadata": {},
   "outputs": [
    {
     "data": {
      "text/plain": [
       "<AxesSubplot:xlabel='ENERGYSTARScore'>"
      ]
     },
     "execution_count": 41,
     "metadata": {},
     "output_type": "execute_result"
    },
    {
     "data": {
      "image/png": "[encoded data removed]",
      "text/plain": [
       "<Figure size 432x288 with 1 Axes>"
      ]
     },
     "metadata": {
      "needs_background": "light"
     },
     "output_type": "display_data"
    }
   ],
   "source": [
    "sns.boxplot(x = df_ESS['ENERGYSTARScore'])"
   ]
  },
  {
   "cell_type": "markdown",
   "id": "f7212def",
   "metadata": {},
   "source": [
    "Data are preprocessed"
   ]
  },
  {
   "cell_type": "code",
   "execution_count": 42,
   "id": "9f24fb68",
   "metadata": {},
   "outputs": [],
   "source": [
    "\n",
    "x = df_ESS.drop(['TotalGHGEmissions',\n",
    "             'SiteEnergyUse(kBtu)',\n",
    "             'Neighborhood',\n",
    "             'streetType',\n",
    "             'LargestPropertyUseType',\n",
    "             'SecondLargestPropertyUseType',\n",
    "             'ThirdLargestPropertyUseType',\n",
    "             'NumberofBuildings',\n",
    "             'Imp_NumberofFloors'], axis = 1)\n",
    "\n",
    "y = df_ESS['TotalGHGEmissions']\n",
    "\n",
    "# Train and test split\n",
    "x_train, x_test, y_train, y_test = train_test_split(x, y, test_size = 0.3, random_state = 0)\n",
    "    \n",
    "# Target preprocessing\n",
    "\n",
    "t_scaler = StandardScaler().fit(np.log1p(y_train.values.reshape(-1,1)))\n",
    "\n",
    "y_train = t_scaler.transform(np.log1p(y_train).values.reshape(-1,1)).reshape(-1,)\n",
    "y_test = t_scaler.transform(np.log1p(y_test).values.reshape(-1,1)).reshape(-1,)\n",
    "    \n",
    "    \n",
    "\n",
    "# split categorical and numerical columns\n",
    "\n",
    "col_cat = x.select_dtypes(exclude = [float, int]).columns\n",
    "\n",
    "col_num = x.select_dtypes(include = [float, int]).columns\n",
    "\n",
    "# Numerical features preprocessing\n",
    "# split log and non-log numerical data\n",
    "\n",
    "col_log_num = [col for col in col_num if col in log_list]\n",
    "\n",
    "col_nonLog_num = [col for col in col_num if col not in log_list]\n",
    "\n",
    "pipe_log = make_pipeline(LogTransformer, StandardScaler()) # Creating a pipepline to both transform to log, add polynomial features and scale numerical data\n",
    "\n",
    "pipe_nonLog = make_pipeline(StandardScaler()) # Creating a pipepline to both add polynomial features and scale numerical data\n",
    "\n",
    "\n",
    "\n",
    "# Categorical feature preprocessing\n",
    "# split cat depending on the number of unique labels per cat\n",
    "\n",
    "cat_threshold = 25\n",
    "\n",
    "col_cat_HOE = [col for col in col_cat if df[col].nunique() <= cat_threshold]\n",
    "\n",
    "\n",
    "\n",
    "\n",
    "\n",
    "\n",
    "\n",
    "# Combining the preprocessing transformers\n",
    "\n",
    "transformer = make_column_transformer((pipe_log, col_log_num),\n",
    "                                        (pipe_nonLog, col_nonLog_num),\n",
    "                                        (OneHotEncoder(handle_unknown = 'ignore'), col_cat_HOE))"
   ]
  },
  {
   "cell_type": "code",
   "execution_count": 43,
   "id": "839d2ffd",
   "metadata": {},
   "outputs": [
    {
     "name": "stdout",
     "output_type": "stream",
     "text": [
      "      Train                Test                \n",
      "R²   0.902               0.895               \n",
      "MSE  0.0984              0.119               \n",
      "RMSE 0.314               0.344               \n",
      "MAE  0.213               0.233               \n"
     ]
    }
   ],
   "source": [
    "model = Ridge()\n",
    "\n",
    "params_cv = {'ridge__alpha': np.logspace(-4, 2, 10)}\n",
    "\n",
    "\n",
    "pipe = model_eval(transformer, model, params_cv, x_train, x_test, y_train, y_test)"
   ]
  },
  {
   "cell_type": "code",
   "execution_count": 44,
   "id": "58fcd276",
   "metadata": {},
   "outputs": [
    {
     "data": {
      "text/plain": [
       "{'ridge__alpha': 1.0}"
      ]
     },
     "execution_count": 44,
     "metadata": {},
     "output_type": "execute_result"
    }
   ],
   "source": [
    "pipe.best_params_"
   ]
  },
  {
   "cell_type": "code",
   "execution_count": 45,
   "id": "94c23eca",
   "metadata": {},
   "outputs": [
    {
     "data": {
      "image/png": "[encoded data removed]",
      "text/plain": [
       "<Figure size 864x288 with 3 Axes>"
      ]
     },
     "metadata": {
      "needs_background": "light"
     },
     "output_type": "display_data"
    }
   ],
   "source": [
    "r2, mse, rmse, mae = evaluate_log_target(pipe, x_train, x_test, y_train, y_test)"
   ]
  },
  {
   "cell_type": "code",
   "execution_count": 46,
   "id": "560b4373",
   "metadata": {},
   "outputs": [
    {
     "data": {
      "text/plain": [
       "[0.901615499176922, 0.8950954706858989]"
      ]
     },
     "execution_count": 46,
     "metadata": {},
     "output_type": "execute_result"
    }
   ],
   "source": [
    "# Coef of determination\n",
    "\n",
    "r2"
   ]
  },
  {
   "cell_type": "code",
   "execution_count": 47,
   "id": "5027ebf0",
   "metadata": {},
   "outputs": [
    {
     "data": {
      "image/png": "[encoded data removed]",
      "text/plain": [
       "<Figure size 864x720 with 6 Axes>"
      ]
     },
     "metadata": {
      "needs_background": "light"
     },
     "output_type": "display_data"
    }
   ],
   "source": [
    "r2, mse, rmse, mae = evaluate_target(pipe, x_train, x_test, y_train, y_test)"
   ]
  },
  {
   "cell_type": "code",
   "execution_count": 48,
   "id": "dbcb12b2",
   "metadata": {},
   "outputs": [
    {
     "data": {
      "text/plain": [
       "[0.77015462647174, 0.9306874067123079]"
      ]
     },
     "execution_count": 48,
     "metadata": {},
     "output_type": "execute_result"
    }
   ],
   "source": [
    "# Coef of determination (Train, Test)\n",
    "\n",
    "r2"
   ]
  },
  {
   "cell_type": "code",
   "execution_count": 49,
   "id": "caf53bb1",
   "metadata": {},
   "outputs": [
    {
     "data": {
      "text/plain": [
       "[186722.12778440502, 25753.527846974983]"
      ]
     },
     "execution_count": 49,
     "metadata": {},
     "output_type": "execute_result"
    }
   ],
   "source": [
    "# Mean squared error (Train, Test)\n",
    "\n",
    "mse"
   ]
  },
  {
   "cell_type": "code",
   "execution_count": 50,
   "id": "480ee30d",
   "metadata": {},
   "outputs": [
    {
     "data": {
      "text/plain": [
       "[432.11355889905263, 160.47905734697903]"
      ]
     },
     "execution_count": 50,
     "metadata": {},
     "output_type": "execute_result"
    }
   ],
   "source": [
    "# Root mean squared error (Train, Test)\n",
    "\n",
    "rmse"
   ]
  },
  {
   "cell_type": "code",
   "execution_count": 51,
   "id": "c412bb36",
   "metadata": {},
   "outputs": [
    {
     "data": {
      "text/plain": [
       "[63.27902967066479, 49.85811831472107]"
      ]
     },
     "execution_count": 51,
     "metadata": {},
     "output_type": "execute_result"
    }
   ],
   "source": [
    "# Mean average error (Train, Test)\n",
    "\n",
    "mae"
   ]
  },
  {
   "cell_type": "markdown",
   "id": "93dcdf79",
   "metadata": {},
   "source": [
    "The wheigt given to the features in the model are then displayed"
   ]
  },
  {
   "cell_type": "code",
   "execution_count": 52,
   "id": "cae30a87",
   "metadata": {},
   "outputs": [
    {
     "data": {
      "text/plain": [
       "<AxesSubplot:>"
      ]
     },
     "execution_count": 52,
     "metadata": {},
     "output_type": "execute_result"
    },
    {
     "data": {
      "image/png": "[encoded data removed]",
      "text/plain": [
       "<Figure size 360x1440 with 1 Axes>"
      ]
     },
     "metadata": {
      "needs_background": "light"
     },
     "output_type": "display_data"
    }
   ],
   "source": [
    "# Getting the name of all parameters through the pipeline\n",
    "features_names = np.concatenate((pipe.best_estimator_.steps[0][1].transformers_[0][1].get_feature_names_out(col_log_num),\n",
    "                            pipe.best_estimator_.steps[0][1].transformers_[1][1].get_feature_names_out(col_nonLog_num),\n",
    "                            pipe.best_estimator_.steps[0][1].transformers_[2][1].get_feature_names_out(col_cat_HOE)),\n",
    "                            axis = None)\n",
    "\n",
    "\n",
    "features_weights = pipe.best_estimator_['ridge'].coef_\n",
    "\n",
    "# Sort the weights with their corresponding label\n",
    "arg_wheigt = features_weights.argsort()\n",
    "features_weights = features_weights[arg_wheigt]\n",
    "features_names = features_names[arg_wheigt]\n",
    "\n",
    "fig, ax = plt.subplots(figsize = (5,20))\n",
    "\n",
    "sns.barplot(x = features_weights,\n",
    "            y = features_names)"
   ]
  },
  {
   "cell_type": "markdown",
   "id": "71b4d133",
   "metadata": {},
   "source": [
    "Multiple observations can be drawn :\n",
    "- Without the *ENERGYSTARScore* the R² and RMSE on the test sample is 0.96 and 119.05 but seems unstable (when compared to the train sample.\n",
    "- With the *ENERGYSTARScore* the R² and RMSE on the test sample is 0.90 but appears much more stable.\n",
    "- Moreover the *ENERGYSTARScore* get allocated a non negligible weight from the model, underlining its importance.\n",
    "\n",
    "Thus, it can be concluded that the *ENERGYSTARScore* allows to assure more accurate prediction, but so could as an example feed the database with more samples as an example. Thus the profit/cost balance should be considered by the client."
   ]
  },
  {
   "cell_type": "code",
   "execution_count": null,
   "id": "a6176539",
   "metadata": {},
   "outputs": [],
   "source": []
  }
 ],
 "metadata": {
  "kernelspec": {
   "display_name": "Python 3 (ipykernel)",
   "language": "python",
   "name": "python3"
  },
  "language_info": {
   "codemirror_mode": {
    "name": "ipython",
    "version": 3
   },
   "file_extension": ".py",
   "mimetype": "text/x-python",
   "name": "python",
   "nbconvert_exporter": "python",
   "pygments_lexer": "ipython3",
   "version": "3.9.12"
  }
 },
 "nbformat": 4,
 "nbformat_minor": 5
}
